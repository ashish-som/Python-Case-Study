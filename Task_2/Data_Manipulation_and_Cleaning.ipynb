{
 "cells": [
  {
   "cell_type": "markdown",
   "id": "afef2b1d-12d7-41a9-9a56-54014c1c34d8",
   "metadata": {},
   "source": [
    "# Importing librraies"
   ]
  },
  {
   "cell_type": "code",
   "execution_count": 2,
   "id": "63f4ae75-24df-4c0b-8360-61d41a1dda65",
   "metadata": {},
   "outputs": [],
   "source": [
    "import numpy as np\n",
    "import pandas as pd\n",
    "import matplotlib.pyplot as plt\n",
    "import seaborn as sns\n",
    "import warnings\n",
    "warnings.filterwarnings('ignore')"
   ]
  },
  {
   "cell_type": "markdown",
   "id": "4395973e-b944-442f-a85a-6f8791095a00",
   "metadata": {},
   "source": [
    "# Loading Dataset"
   ]
  },
  {
   "cell_type": "code",
   "execution_count": 3,
   "id": "8c5b205c-906b-4f2c-83f6-397c8bc1cbc9",
   "metadata": {},
   "outputs": [],
   "source": [
    "path=r\"C:\\Users\\ashis\\OneDrive\\Documents\\Case_Study\\Task_2\\resources\\test.csv\""
   ]
  },
  {
   "cell_type": "code",
   "execution_count": 4,
   "id": "170c7a38-81b1-42c2-a778-c9de4bb0882a",
   "metadata": {},
   "outputs": [],
   "source": [
    "df=pd.read_csv(path)"
   ]
  },
  {
   "cell_type": "code",
   "execution_count": 5,
   "id": "b6381648-830d-498c-9352-01510b8226e3",
   "metadata": {},
   "outputs": [
    {
     "data": {
      "text/html": [
       "<div>\n",
       "<style scoped>\n",
       "    .dataframe tbody tr th:only-of-type {\n",
       "        vertical-align: middle;\n",
       "    }\n",
       "\n",
       "    .dataframe tbody tr th {\n",
       "        vertical-align: top;\n",
       "    }\n",
       "\n",
       "    .dataframe thead th {\n",
       "        text-align: right;\n",
       "    }\n",
       "</style>\n",
       "<table border=\"1\" class=\"dataframe\">\n",
       "  <thead>\n",
       "    <tr style=\"text-align: right;\">\n",
       "      <th></th>\n",
       "      <th>Unnamed: 0</th>\n",
       "      <th>ID</th>\n",
       "      <th>Country</th>\n",
       "      <th>Sample Size</th>\n",
       "      <th>Outcome</th>\n",
       "      <th>Duration</th>\n",
       "    </tr>\n",
       "  </thead>\n",
       "  <tbody>\n",
       "    <tr>\n",
       "      <th>0</th>\n",
       "      <td>0</td>\n",
       "      <td>66</td>\n",
       "      <td>China</td>\n",
       "      <td>669</td>\n",
       "      <td>Negative</td>\n",
       "      <td>143</td>\n",
       "    </tr>\n",
       "    <tr>\n",
       "      <th>1</th>\n",
       "      <td>1</td>\n",
       "      <td>15</td>\n",
       "      <td>Spain</td>\n",
       "      <td>788</td>\n",
       "      <td>Positive</td>\n",
       "      <td>51</td>\n",
       "    </tr>\n",
       "    <tr>\n",
       "      <th>2</th>\n",
       "      <td>2</td>\n",
       "      <td>82</td>\n",
       "      <td>Japan</td>\n",
       "      <td>677</td>\n",
       "      <td>Inconclusive</td>\n",
       "      <td>345</td>\n",
       "    </tr>\n",
       "    <tr>\n",
       "      <th>3</th>\n",
       "      <td>3</td>\n",
       "      <td>77</td>\n",
       "      <td>Japan</td>\n",
       "      <td>274</td>\n",
       "      <td>Positive</td>\n",
       "      <td>199</td>\n",
       "    </tr>\n",
       "    <tr>\n",
       "      <th>4</th>\n",
       "      <td>4</td>\n",
       "      <td>85</td>\n",
       "      <td>NaN</td>\n",
       "      <td>NaN</td>\n",
       "      <td>Negative</td>\n",
       "      <td>NaN</td>\n",
       "    </tr>\n",
       "  </tbody>\n",
       "</table>\n",
       "</div>"
      ],
      "text/plain": [
       "   Unnamed: 0  ID Country Sample Size       Outcome Duration\n",
       "0           0  66   China         669     Negative       143\n",
       "1           1  15   Spain         788      Positive       51\n",
       "2           2  82   Japan         677  Inconclusive      345\n",
       "3           3  77   Japan         274      Positive      199\n",
       "4           4  85     NaN         NaN      Negative      NaN"
      ]
     },
     "execution_count": 5,
     "metadata": {},
     "output_type": "execute_result"
    }
   ],
   "source": [
    "df.head()"
   ]
  },
  {
   "cell_type": "markdown",
   "id": "907dbbc4",
   "metadata": {},
   "source": [
    "# Initial Exploration of the data"
   ]
  },
  {
   "cell_type": "markdown",
   "id": "29891f77-cf01-44f0-ab12-9718f9c8570c",
   "metadata": {},
   "source": [
    "### Shape of the data"
   ]
  },
  {
   "cell_type": "code",
   "execution_count": 6,
   "id": "627e5717-f02c-471b-a7d6-c27441871fc7",
   "metadata": {},
   "outputs": [
    {
     "data": {
      "text/plain": [
       "(102, 6)"
      ]
     },
     "execution_count": 6,
     "metadata": {},
     "output_type": "execute_result"
    }
   ],
   "source": [
    "df.shape"
   ]
  },
  {
   "cell_type": "markdown",
   "id": "c0ce2f23",
   "metadata": {},
   "source": [
    "### Basic Information"
   ]
  },
  {
   "cell_type": "code",
   "execution_count": 51,
   "id": "c9db30f2",
   "metadata": {},
   "outputs": [
    {
     "name": "stdout",
     "output_type": "stream",
     "text": [
      "<class 'pandas.core.frame.DataFrame'>\n",
      "RangeIndex: 97 entries, 0 to 96\n",
      "Data columns (total 6 columns):\n",
      " #   Column       Non-Null Count  Dtype \n",
      "---  ------       --------------  ----- \n",
      " 0   Unnamed: 0   97 non-null     int64 \n",
      " 1   ID           97 non-null     int64 \n",
      " 2   Country      97 non-null     object\n",
      " 3   Sample Size  97 non-null     int32 \n",
      " 4   Outcome      97 non-null     object\n",
      " 5   Duration     97 non-null     int32 \n",
      "dtypes: int32(2), int64(2), object(2)\n",
      "memory usage: 3.9+ KB\n"
     ]
    }
   ],
   "source": [
    "df.info()"
   ]
  },
  {
   "cell_type": "markdown",
   "id": "be979015",
   "metadata": {},
   "source": [
    "# Handling Missing values"
   ]
  },
  {
   "cell_type": "markdown",
   "id": "826a6831-61a6-4178-b0f8-ab57880e9d0e",
   "metadata": {},
   "source": [
    "### Missing values check"
   ]
  },
  {
   "cell_type": "code",
   "execution_count": 52,
   "id": "b1e6dae4-ad77-42fb-953e-3adf152f9769",
   "metadata": {},
   "outputs": [
    {
     "data": {
      "text/plain": [
       "Unnamed: 0     0\n",
       "ID             0\n",
       "Country        0\n",
       "Sample Size    0\n",
       "Outcome        0\n",
       "Duration       0\n",
       "dtype: int64"
      ]
     },
     "execution_count": 52,
     "metadata": {},
     "output_type": "execute_result"
    }
   ],
   "source": [
    "df.isna().sum()"
   ]
  },
  {
   "cell_type": "code",
   "execution_count": 53,
   "id": "47014da6-2e8a-4085-986c-9aa455c9712f",
   "metadata": {},
   "outputs": [],
   "source": [
    "# There are a few columns that have missing values.\n",
    "# I feel that country column is the most important so if country is missing then I am dropping those rows."
   ]
  },
  {
   "cell_type": "markdown",
   "id": "5b9e2920",
   "metadata": {},
   "source": [
    "### Dropping the missing values"
   ]
  },
  {
   "cell_type": "code",
   "execution_count": 54,
   "id": "14fab019-fedf-4ff9-9687-87a38708cc5a",
   "metadata": {},
   "outputs": [],
   "source": [
    "df=df.drop(df[df.Country.isna()].index).reset_index(drop=True)"
   ]
  },
  {
   "cell_type": "code",
   "execution_count": 10,
   "id": "cc1d8f18-d7ae-42f6-9e35-b67550f33eaa",
   "metadata": {},
   "outputs": [
    {
     "data": {
      "text/plain": [
       "Unnamed: 0     0\n",
       "ID             0\n",
       "Country        0\n",
       "Sample Size    0\n",
       "Outcome        0\n",
       "Duration       0\n",
       "dtype: int64"
      ]
     },
     "execution_count": 10,
     "metadata": {},
     "output_type": "execute_result"
    }
   ],
   "source": [
    "df.isna().sum()"
   ]
  },
  {
   "cell_type": "code",
   "execution_count": 11,
   "id": "13f7eb68-5337-4e9d-938f-b589d65df5b5",
   "metadata": {},
   "outputs": [],
   "source": [
    "# - There are no missing values now in the data."
   ]
  },
  {
   "cell_type": "code",
   "execution_count": 12,
   "id": "2f3a69bd-dd54-4db2-8c60-759232508046",
   "metadata": {},
   "outputs": [
    {
     "data": {
      "text/plain": [
       "(97, 6)"
      ]
     },
     "execution_count": 12,
     "metadata": {},
     "output_type": "execute_result"
    }
   ],
   "source": [
    "df.shape"
   ]
  },
  {
   "cell_type": "code",
   "execution_count": 13,
   "id": "36b10d9b-5e28-4378-b953-9fb6fd12402f",
   "metadata": {},
   "outputs": [],
   "source": [
    "# We have dropped total 5 rows because of missing values."
   ]
  },
  {
   "cell_type": "markdown",
   "id": "a42ff1df",
   "metadata": {},
   "source": [
    "# Data Type Conversion"
   ]
  },
  {
   "cell_type": "markdown",
   "id": "c1939ec6-56fc-4524-bf59-ff8a5ac2a558",
   "metadata": {},
   "source": [
    "### Datatypes of the columns"
   ]
  },
  {
   "cell_type": "code",
   "execution_count": 56,
   "id": "d2334d1e-d9fb-4b70-9912-3e77ce7c1b9b",
   "metadata": {},
   "outputs": [
    {
     "data": {
      "text/plain": [
       "Unnamed: 0      int64\n",
       "ID              int64\n",
       "Country        object\n",
       "Sample Size     int32\n",
       "Outcome        object\n",
       "Duration        int32\n",
       "dtype: object"
      ]
     },
     "execution_count": 56,
     "metadata": {},
     "output_type": "execute_result"
    }
   ],
   "source": [
    "df.dtypes"
   ]
  },
  {
   "cell_type": "code",
   "execution_count": 57,
   "id": "b06b4d22-2508-44a3-9885-1140c1d8c2a3",
   "metadata": {},
   "outputs": [],
   "source": [
    "# As per the nature 'Sample Size' and 'Duration' have to be numeric"
   ]
  },
  {
   "cell_type": "markdown",
   "id": "b1c88e3e-183a-4201-b84b-00eaa58e9e83",
   "metadata": {},
   "source": [
    "### Converting 'Sample Size' column into numeric type"
   ]
  },
  {
   "cell_type": "code",
   "execution_count": 16,
   "id": "b1bbed2b-684c-4aeb-9b2c-7e9569b91a53",
   "metadata": {},
   "outputs": [
    {
     "data": {
      "text/plain": [
       "array(['669', '788', '677', '274', 'two hundred', '511', '829', '590',\n",
       "       '949', '460%', '423', '792', '603', '82', '426', '290', '332',\n",
       "       '397', '713', '888', '456', '876', '798', '731', '292', '97',\n",
       "       '434', '844', '209', '979', '283', '552', '662', '868', '596',\n",
       "       '442', '759', '854', '698', '574', '135', '689', '847', '692',\n",
       "       '606', '267', '627', '704', '818', '695', '992', '64', '145',\n",
       "       '505', '447', '721', '726', '748', '380', '367', '913', '623',\n",
       "       '555', '794', '220', '845', '816', '148', '239', 'fifty', '624',\n",
       "       '389', '510', '733', '920', '777', '682', '740', '280', '657',\n",
       "       '775', '256', '534', '522', '613', '941', '77', '605', '921',\n",
       "       '783', '85'], dtype=object)"
      ]
     },
     "execution_count": 16,
     "metadata": {},
     "output_type": "execute_result"
    }
   ],
   "source": [
    "df['Sample Size'].unique()"
   ]
  },
  {
   "cell_type": "code",
   "execution_count": 17,
   "id": "2f5edeaa-df45-4c7d-aadd-85f2c15e6419",
   "metadata": {},
   "outputs": [],
   "source": [
    "# - There are some incosistencies in the Sample Size data such as special charcaters\n",
    "# - Non-digit representation of the numbers such as 'two hundred' and 'fifty'"
   ]
  },
  {
   "cell_type": "code",
   "execution_count": 18,
   "id": "34e9dc55-a2fb-47c9-a5f3-0ae771ca0808",
   "metadata": {},
   "outputs": [],
   "source": [
    "df['Sample Size']=df['Sample Size'].str.strip('%')"
   ]
  },
  {
   "cell_type": "code",
   "execution_count": 19,
   "id": "b18271d7-d036-41a7-8b0a-09e23754a04a",
   "metadata": {},
   "outputs": [],
   "source": [
    "from word2number import w2n"
   ]
  },
  {
   "cell_type": "code",
   "execution_count": 20,
   "id": "ffdae194-6988-4261-aaba-8bb6f7d23265",
   "metadata": {},
   "outputs": [
    {
     "data": {
      "text/plain": [
       "Index([4, 70], dtype='int64')"
      ]
     },
     "execution_count": 20,
     "metadata": {},
     "output_type": "execute_result"
    }
   ],
   "source": [
    "ind=df[df['Sample Size'].apply(lambda x:True if not x.isdigit() else False)].index\n",
    "ind"
   ]
  },
  {
   "cell_type": "code",
   "execution_count": 21,
   "id": "44d931cc-1c42-49cf-b8cd-e4177088844c",
   "metadata": {},
   "outputs": [
    {
     "data": {
      "text/plain": [
       "4     two hundred\n",
       "70          fifty\n",
       "Name: Sample Size, dtype: object"
      ]
     },
     "execution_count": 21,
     "metadata": {},
     "output_type": "execute_result"
    }
   ],
   "source": [
    "df['Sample Size'].iloc[ind]"
   ]
  },
  {
   "cell_type": "code",
   "execution_count": 22,
   "id": "f3cc4d15-a791-48d9-9129-28b37a83f654",
   "metadata": {},
   "outputs": [
    {
     "data": {
      "text/plain": [
       "[200, 50]"
      ]
     },
     "execution_count": 22,
     "metadata": {},
     "output_type": "execute_result"
    }
   ],
   "source": [
    "numbers=[w2n.word_to_num(i) for i in df[df['Sample Size'].apply(lambda x:True if not x.isdigit() else False)]['Sample Size']]\n",
    "numbers"
   ]
  },
  {
   "cell_type": "code",
   "execution_count": 23,
   "id": "50f3427f-7762-424a-9224-eb204b04be81",
   "metadata": {},
   "outputs": [],
   "source": [
    "df['Sample Size'].iloc[ind]=numbers"
   ]
  },
  {
   "cell_type": "code",
   "execution_count": 24,
   "id": "06679011-fb02-4745-87be-6c7abd881a01",
   "metadata": {},
   "outputs": [],
   "source": [
    "df['Sample Size']=df['Sample Size'].astype(int)"
   ]
  },
  {
   "cell_type": "code",
   "execution_count": 25,
   "id": "ee22d4fb-abea-43d6-a41d-8bfcf508aa33",
   "metadata": {},
   "outputs": [
    {
     "data": {
      "text/plain": [
       "Unnamed: 0      int64\n",
       "ID              int64\n",
       "Country        object\n",
       "Sample Size     int32\n",
       "Outcome        object\n",
       "Duration       object\n",
       "dtype: object"
      ]
     },
     "execution_count": 25,
     "metadata": {},
     "output_type": "execute_result"
    }
   ],
   "source": [
    "df.dtypes"
   ]
  },
  {
   "cell_type": "code",
   "execution_count": 26,
   "id": "85370c52-4be4-4987-b312-598cb7296da8",
   "metadata": {},
   "outputs": [],
   "source": [
    "# The 'Sample Size' column has been successfully converted to numeric type (int32)"
   ]
  },
  {
   "cell_type": "markdown",
   "id": "7be90fdf-5e1b-4e95-b762-7321f19d9b8b",
   "metadata": {},
   "source": [
    "### Converting Duration into numeric type"
   ]
  },
  {
   "cell_type": "code",
   "execution_count": 27,
   "id": "b64194dd-9452-405b-89b7-169bd80f096e",
   "metadata": {},
   "outputs": [
    {
     "data": {
      "text/plain": [
       "array(['143', '51', '345', '199', '97', '67', '339', '217', '128', '293',\n",
       "       '92', '249', '33', '237', '55', '187', '335', '328', '182', '190',\n",
       "       '309', '215', '210', '252', '352', '198', '276', '126', '282',\n",
       "       '192', '244', 'three sixty five', '317', '205', '313', '49', '333',\n",
       "       '171', '220', '157', '302', '156', '259', '83', '312', '310',\n",
       "       '124', '80', '-90', '350', '306', '219', '121', '285', '184',\n",
       "       '172', '201', '87', '56', '133', '342', '203', '255', '164', '68',\n",
       "       '46', '351', '47', '180', '318', '221', '315', '42', '78', '331',\n",
       "       '154', '62', '346', '66', '275', '75', '64', '262', '-365'],\n",
       "      dtype=object)"
      ]
     },
     "execution_count": 27,
     "metadata": {},
     "output_type": "execute_result"
    }
   ],
   "source": [
    "df.Duration.unique()"
   ]
  },
  {
   "cell_type": "code",
   "execution_count": 28,
   "id": "7f02d0c4-b0e4-468e-ad87-5c27465f0fb4",
   "metadata": {},
   "outputs": [],
   "source": [
    "# As we can see that there are some numbers in text format so first fixing them and then converting to numeric."
   ]
  },
  {
   "cell_type": "code",
   "execution_count": 29,
   "id": "2bfa799a-fcc4-49c8-874f-0610f4c225b5",
   "metadata": {},
   "outputs": [],
   "source": [
    "def word_to_num(text):\n",
    "    lst=list(map(lambda x:str(w2n.word_to_num(x)),text.split()))\n",
    "    r=''\n",
    "    for i in lst:\n",
    "        if int(i)%10==0:\n",
    "            r+=i[0]\n",
    "        else:\n",
    "            r+=i\n",
    "    return r"
   ]
  },
  {
   "cell_type": "code",
   "execution_count": 30,
   "id": "2a654bc2-cd87-4687-b89a-a488b1eac614",
   "metadata": {},
   "outputs": [],
   "source": [
    "df.Duration=df.Duration.apply(lambda x:word_to_num(x) if not x.strip('-').isdigit() else x)"
   ]
  },
  {
   "cell_type": "code",
   "execution_count": 31,
   "id": "4217749a-979a-414a-91a3-adbd40d4d260",
   "metadata": {},
   "outputs": [
    {
     "data": {
      "text/plain": [
       "array(['143', '51', '345', '199', '97', '67', '339', '217', '128', '293',\n",
       "       '92', '249', '33', '237', '55', '187', '335', '328', '182', '190',\n",
       "       '309', '215', '210', '252', '352', '198', '276', '126', '282',\n",
       "       '192', '244', '365', '317', '205', '313', '49', '333', '171',\n",
       "       '220', '157', '302', '156', '259', '83', '312', '310', '124', '80',\n",
       "       '-90', '350', '306', '219', '121', '285', '184', '172', '201',\n",
       "       '87', '56', '133', '342', '203', '255', '164', '68', '46', '351',\n",
       "       '47', '180', '318', '221', '315', '42', '78', '331', '154', '62',\n",
       "       '346', '66', '275', '75', '64', '262', '-365'], dtype=object)"
      ]
     },
     "execution_count": 31,
     "metadata": {},
     "output_type": "execute_result"
    }
   ],
   "source": [
    "df.Duration.unique()"
   ]
  },
  {
   "cell_type": "code",
   "execution_count": 32,
   "id": "627e1640-abd7-4043-bfa4-70a4b844b748",
   "metadata": {},
   "outputs": [],
   "source": [
    "# As we can see that the text has been successfully converted to digits\n",
    "# Now converting the type to numeric (int)"
   ]
  },
  {
   "cell_type": "code",
   "execution_count": 33,
   "id": "71e3df06-1cc2-4445-98b2-01b5c24c526d",
   "metadata": {},
   "outputs": [],
   "source": [
    "df['Duration']=df.Duration.astype(int)"
   ]
  },
  {
   "cell_type": "code",
   "execution_count": 34,
   "id": "bc2cdd91-efc0-4ede-ba60-bcfcc5ab3928",
   "metadata": {},
   "outputs": [
    {
     "data": {
      "text/plain": [
       "Unnamed: 0      int64\n",
       "ID              int64\n",
       "Country        object\n",
       "Sample Size     int32\n",
       "Outcome        object\n",
       "Duration        int32\n",
       "dtype: object"
      ]
     },
     "execution_count": 34,
     "metadata": {},
     "output_type": "execute_result"
    }
   ],
   "source": [
    "df.dtypes"
   ]
  },
  {
   "cell_type": "code",
   "execution_count": 35,
   "id": "c4ae5b45-a4f4-4746-af60-92c7b3860772",
   "metadata": {},
   "outputs": [
    {
     "data": {
      "text/html": [
       "<div>\n",
       "<style scoped>\n",
       "    .dataframe tbody tr th:only-of-type {\n",
       "        vertical-align: middle;\n",
       "    }\n",
       "\n",
       "    .dataframe tbody tr th {\n",
       "        vertical-align: top;\n",
       "    }\n",
       "\n",
       "    .dataframe thead th {\n",
       "        text-align: right;\n",
       "    }\n",
       "</style>\n",
       "<table border=\"1\" class=\"dataframe\">\n",
       "  <thead>\n",
       "    <tr style=\"text-align: right;\">\n",
       "      <th></th>\n",
       "      <th>Unnamed: 0</th>\n",
       "      <th>ID</th>\n",
       "      <th>Country</th>\n",
       "      <th>Sample Size</th>\n",
       "      <th>Outcome</th>\n",
       "      <th>Duration</th>\n",
       "    </tr>\n",
       "  </thead>\n",
       "  <tbody>\n",
       "    <tr>\n",
       "      <th>0</th>\n",
       "      <td>0</td>\n",
       "      <td>66</td>\n",
       "      <td>China</td>\n",
       "      <td>669</td>\n",
       "      <td>Negative</td>\n",
       "      <td>143</td>\n",
       "    </tr>\n",
       "    <tr>\n",
       "      <th>1</th>\n",
       "      <td>1</td>\n",
       "      <td>15</td>\n",
       "      <td>Spain</td>\n",
       "      <td>788</td>\n",
       "      <td>Positive</td>\n",
       "      <td>51</td>\n",
       "    </tr>\n",
       "    <tr>\n",
       "      <th>2</th>\n",
       "      <td>2</td>\n",
       "      <td>82</td>\n",
       "      <td>Japan</td>\n",
       "      <td>677</td>\n",
       "      <td>Inconclusive</td>\n",
       "      <td>345</td>\n",
       "    </tr>\n",
       "    <tr>\n",
       "      <th>3</th>\n",
       "      <td>3</td>\n",
       "      <td>77</td>\n",
       "      <td>Japan</td>\n",
       "      <td>274</td>\n",
       "      <td>Positive</td>\n",
       "      <td>199</td>\n",
       "    </tr>\n",
       "    <tr>\n",
       "      <th>4</th>\n",
       "      <td>6</td>\n",
       "      <td>6</td>\n",
       "      <td>China</td>\n",
       "      <td>200</td>\n",
       "      <td>Negative</td>\n",
       "      <td>97</td>\n",
       "    </tr>\n",
       "  </tbody>\n",
       "</table>\n",
       "</div>"
      ],
      "text/plain": [
       "   Unnamed: 0  ID Country  Sample Size       Outcome  Duration\n",
       "0           0  66   China          669     Negative        143\n",
       "1           1  15   Spain          788      Positive        51\n",
       "2           2  82   Japan          677  Inconclusive       345\n",
       "3           3  77   Japan          274      Positive       199\n",
       "4           6   6   China          200      Negative        97"
      ]
     },
     "execution_count": 35,
     "metadata": {},
     "output_type": "execute_result"
    }
   ],
   "source": [
    "df.head()"
   ]
  },
  {
   "cell_type": "markdown",
   "id": "f2f33d84",
   "metadata": {},
   "source": [
    "# Categorical Data Standardization"
   ]
  },
  {
   "cell_type": "markdown",
   "id": "34354043-a4b1-4078-97bb-8a100028f209",
   "metadata": {},
   "source": [
    "### Country"
   ]
  },
  {
   "cell_type": "code",
   "execution_count": 36,
   "id": "876ac285-9d58-416f-a1a7-7c6c9b0e49d9",
   "metadata": {},
   "outputs": [
    {
     "data": {
      "text/plain": [
       "array(['China', 'Spain', 'Japan', 'Australia', 'Canada', 'UK', 'USA',\n",
       "       'France', 'United states', 'Germany', 'Italy', 'US', 'FR'],\n",
       "      dtype=object)"
      ]
     },
     "execution_count": 36,
     "metadata": {},
     "output_type": "execute_result"
    }
   ],
   "source": [
    "df.Country.unique()"
   ]
  },
  {
   "cell_type": "code",
   "execution_count": 37,
   "id": "96a5f1da-1c33-497d-a272-78ed232d4377",
   "metadata": {},
   "outputs": [
    {
     "data": {
      "text/plain": [
       "Country\n",
       "Australia        13\n",
       "Canada           12\n",
       "China            11\n",
       "Japan            11\n",
       "UK               10\n",
       "Italy            10\n",
       "France            9\n",
       "Germany           9\n",
       "Spain             6\n",
       "USA               3\n",
       "United states     1\n",
       "US                1\n",
       "FR                1\n",
       "Name: count, dtype: int64"
      ]
     },
     "execution_count": 37,
     "metadata": {},
     "output_type": "execute_result"
    }
   ],
   "source": [
    "df.Country.value_counts()"
   ]
  },
  {
   "cell_type": "code",
   "execution_count": 38,
   "id": "b0d4cadf-7b64-4f7a-9c16-96922ae1ab72",
   "metadata": {},
   "outputs": [],
   "source": [
    "# As we can see that 'USA','United States' and 'US' all belong to one country only.\n",
    "# So I am converting 'United Satetes' and 'US' into USA.\n",
    "\n",
    "# FR- Generally we don't use any abbreviations for France so I am converting FR to France"
   ]
  },
  {
   "cell_type": "code",
   "execution_count": 39,
   "id": "f34f7295-8af9-4eb7-bc5e-cebb8156d1f3",
   "metadata": {},
   "outputs": [],
   "source": [
    "df.Country.replace({'United states':'USA','US':'USA','FR':'France'},inplace=True)"
   ]
  },
  {
   "cell_type": "code",
   "execution_count": 40,
   "id": "7fe3c9be-2ff6-4f86-b7b2-c57c441b89ef",
   "metadata": {},
   "outputs": [
    {
     "data": {
      "text/plain": [
       "Country\n",
       "Australia    13\n",
       "Canada       12\n",
       "China        11\n",
       "Japan        11\n",
       "UK           10\n",
       "France       10\n",
       "Italy        10\n",
       "Germany       9\n",
       "Spain         6\n",
       "USA           5\n",
       "Name: count, dtype: int64"
      ]
     },
     "execution_count": 40,
     "metadata": {},
     "output_type": "execute_result"
    }
   ],
   "source": [
    "df.Country.value_counts()"
   ]
  },
  {
   "cell_type": "code",
   "execution_count": 41,
   "id": "4596152b-3b4e-4702-88c0-d86b33091b00",
   "metadata": {},
   "outputs": [],
   "source": [
    "# Now as we can see that the changes have been made perperly."
   ]
  },
  {
   "cell_type": "markdown",
   "id": "451f9267-009a-4082-8f8c-0a891937b9f2",
   "metadata": {},
   "source": [
    "### Outcome"
   ]
  },
  {
   "cell_type": "code",
   "execution_count": 42,
   "id": "fb8b552b-532d-44a3-8dcf-6b5b9c80ab76",
   "metadata": {},
   "outputs": [
    {
     "data": {
      "text/plain": [
       "array(['Negative ', 'Positive', 'Inconclusive', 'Negative', 'Positive  ',\n",
       "       '  Negative', 'Inconclusive  ', ' Inconclusive'], dtype=object)"
      ]
     },
     "execution_count": 42,
     "metadata": {},
     "output_type": "execute_result"
    }
   ],
   "source": [
    "df.Outcome.unique()"
   ]
  },
  {
   "cell_type": "code",
   "execution_count": 43,
   "id": "e6405d8d-f6a0-40ce-9d03-1e73a635bf03",
   "metadata": {},
   "outputs": [
    {
     "data": {
      "text/plain": [
       "Outcome\n",
       "Positive          34\n",
       "Inconclusive      30\n",
       "Negative          28\n",
       "Negative           1\n",
       "Positive           1\n",
       "  Negative         1\n",
       "Inconclusive       1\n",
       " Inconclusive      1\n",
       "Name: count, dtype: int64"
      ]
     },
     "execution_count": 43,
     "metadata": {},
     "output_type": "execute_result"
    }
   ],
   "source": [
    "df.Outcome.value_counts()"
   ]
  },
  {
   "cell_type": "code",
   "execution_count": 44,
   "id": "d45f16af-b6c5-4f54-b790-f7f2639399ad",
   "metadata": {},
   "outputs": [],
   "source": [
    "# As we can see that there are names that have extra spaces \n",
    "# because of which we are getting more unique values but they represent the similar information\n",
    "# Removing the extra spaces"
   ]
  },
  {
   "cell_type": "code",
   "execution_count": 45,
   "id": "9c0093e5-f3ab-484e-b80d-1397246f91aa",
   "metadata": {},
   "outputs": [],
   "source": [
    "df.Outcome=df.Outcome.str.strip()"
   ]
  },
  {
   "cell_type": "code",
   "execution_count": 46,
   "id": "faeac4f5-c725-4192-a9a0-8a153da4b55a",
   "metadata": {},
   "outputs": [
    {
     "data": {
      "text/plain": [
       "array(['Negative', 'Positive', 'Inconclusive'], dtype=object)"
      ]
     },
     "execution_count": 46,
     "metadata": {},
     "output_type": "execute_result"
    }
   ],
   "source": [
    "df.Outcome.unique()"
   ]
  },
  {
   "cell_type": "code",
   "execution_count": 47,
   "id": "6fc50db2-3d5e-462f-8534-207f44128a8a",
   "metadata": {},
   "outputs": [
    {
     "data": {
      "text/plain": [
       "Outcome\n",
       "Positive        35\n",
       "Inconclusive    32\n",
       "Negative        30\n",
       "Name: count, dtype: int64"
      ]
     },
     "execution_count": 47,
     "metadata": {},
     "output_type": "execute_result"
    }
   ],
   "source": [
    "df.Outcome.value_counts()"
   ]
  },
  {
   "cell_type": "code",
   "execution_count": 48,
   "id": "d9319899-52cb-4c01-9bc6-fe3408ef370a",
   "metadata": {},
   "outputs": [],
   "source": [
    "# Now we can see only 3 unique values are there."
   ]
  },
  {
   "cell_type": "markdown",
   "id": "4f3f1025-358b-43fd-943b-ca41b632cfb7",
   "metadata": {},
   "source": [
    "# Check for the duplicates"
   ]
  },
  {
   "cell_type": "code",
   "execution_count": 49,
   "id": "af00f024",
   "metadata": {},
   "outputs": [
    {
     "data": {
      "text/plain": [
       "0"
      ]
     },
     "execution_count": 49,
     "metadata": {},
     "output_type": "execute_result"
    }
   ],
   "source": [
    "df.duplicated().sum()"
   ]
  },
  {
   "cell_type": "code",
   "execution_count": 50,
   "id": "05779e77",
   "metadata": {},
   "outputs": [],
   "source": [
    "# - As we can see there are no duplicates in the data."
   ]
  },
  {
   "cell_type": "markdown",
   "id": "25a30a54-2c89-4604-9aa5-4e75f1201db7",
   "metadata": {},
   "source": [
    "# Conclusion"
   ]
  },
  {
   "cell_type": "markdown",
   "id": "283b3559",
   "metadata": {},
   "source": [
    "The dataset has been successfully cleaned and prepared for further analysis. All missing values have been handled, numerical columns have been converted to appropriate types, and specific values in categorical columns have been standardized. This ensures the dataset is consistent and ready for any subsequent data processing or analysis tasks."
   ]
  },
  {
   "cell_type": "code",
   "execution_count": null,
   "id": "e552f92d",
   "metadata": {},
   "outputs": [],
   "source": []
  }
 ],
 "metadata": {
  "kernelspec": {
   "display_name": "Python 3 (ipykernel)",
   "language": "python",
   "name": "python3"
  },
  "language_info": {
   "codemirror_mode": {
    "name": "ipython",
    "version": 3
   },
   "file_extension": ".py",
   "mimetype": "text/x-python",
   "name": "python",
   "nbconvert_exporter": "python",
   "pygments_lexer": "ipython3",
   "version": "3.11.7"
  }
 },
 "nbformat": 4,
 "nbformat_minor": 5
}
